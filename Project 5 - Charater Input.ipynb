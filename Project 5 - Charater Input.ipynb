{
 "cells": [
  {
   "cell_type": "markdown",
   "id": "36ec2542",
   "metadata": {},
   "source": [
    "**Exercise 1**\n",
    "\n",
    "Create a program that asks the user to enter their name and their age. Print out a message addressed to them that tells them the year that they will turn 100 years old."
   ]
  },
  {
   "cell_type": "code",
   "execution_count": 2,
   "id": "347fdccc",
   "metadata": {},
   "outputs": [
    {
     "name": "stdout",
     "output_type": "stream",
     "text": [
      "name: Chi\n",
      "age: 23\n",
      "Chi will turn 100 years old in 2098\n"
     ]
    }
   ],
   "source": [
    "name = input('name: ', )\n",
    "age = int(input('age: ', ))\n",
    "year_100 = 2021 + (100 - age)\n",
    "print(f'{name} will turn 100 years old in {year_100}')\n"
   ]
  },
  {
   "cell_type": "markdown",
   "id": "4cee3bb1",
   "metadata": {},
   "source": [
    "**Extras:**\n",
    "\n",
    "Add on to the previous program by asking the user for another number and printing out that many copies of the previous message. (Hint: order of operations exists in Python)\n",
    "Print out that many copies of the previous message on separate lines. (Hint: the string \"\\n is the same as pressing the ENTER button)"
   ]
  },
  {
   "cell_type": "code",
   "execution_count": 34,
   "id": "a15b55d4",
   "metadata": {},
   "outputs": [
    {
     "name": "stdout",
     "output_type": "stream",
     "text": [
      "n: 3\n",
      "Chi will turn 100 years old in 2098\n",
      "Chi will turn 100 years old in 2098\n",
      "Chi will turn 100 years old in 2098\n",
      "\n"
     ]
    }
   ],
   "source": [
    "#1st Method\n",
    "n = int(input('n: ', ))\n",
    "a= f'{name} will turn 100 years old in {year_100}\\n'\n",
    "print(n*a)"
   ]
  },
  {
   "cell_type": "code",
   "execution_count": 35,
   "id": "b3041871",
   "metadata": {},
   "outputs": [
    {
     "name": "stdout",
     "output_type": "stream",
     "text": [
      "Chi will turn 100 years old in 2098\n",
      "\n",
      "Chi will turn 100 years old in 2098\n",
      "\n",
      "Chi will turn 100 years old in 2098\n",
      "\n"
     ]
    }
   ],
   "source": [
    "#2nd Method\n",
    "for i in range(n):\n",
    "    print(a)"
   ]
  }
 ],
 "metadata": {
  "kernelspec": {
   "display_name": "Python 3 (ipykernel)",
   "language": "python",
   "name": "python3"
  },
  "language_info": {
   "codemirror_mode": {
    "name": "ipython",
    "version": 3
   },
   "file_extension": ".py",
   "mimetype": "text/x-python",
   "name": "python",
   "nbconvert_exporter": "python",
   "pygments_lexer": "ipython3",
   "version": "3.9.7"
  }
 },
 "nbformat": 4,
 "nbformat_minor": 5
}
