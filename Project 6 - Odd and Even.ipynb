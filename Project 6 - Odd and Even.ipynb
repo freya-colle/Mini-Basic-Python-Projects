{
 "cells": [
  {
   "cell_type": "markdown",
   "id": "c7ce4b77",
   "metadata": {},
   "source": [
    "**Exercise 2:**\n",
    "\n",
    "Ask the user for a number. Depending on whether the number is even or odd, print out an appropriate message to the user. Hint: how does an even / odd number react differently when divided by 2?"
   ]
  },
  {
   "cell_type": "code",
   "execution_count": 4,
   "id": "9d472b7b",
   "metadata": {},
   "outputs": [
    {
     "name": "stdout",
     "output_type": "stream",
     "text": [
      "number: 30\n",
      "30 is even\n"
     ]
    }
   ],
   "source": [
    "number = int(input('number: ',))\n",
    "if number%2==0:\n",
    "    print(f'{number} is even')\n",
    "else:\n",
    "    print(f'{number} is odd')"
   ]
  },
  {
   "cell_type": "markdown",
   "id": "c07fd5af",
   "metadata": {},
   "source": [
    "**Extras:**\n",
    "\n",
    "If the number is a multiple of 4, print out a different message.\n",
    "Ask the user for two numbers: one number to check (call it num) and one number to divide by (check). If check divides evenly into num, tell that to the user. If not, print a different appropriate message."
   ]
  },
  {
   "cell_type": "code",
   "execution_count": 5,
   "id": "e57f3a4c",
   "metadata": {},
   "outputs": [
    {
     "name": "stdout",
     "output_type": "stream",
     "text": [
      "30  is not a multiple of 4\n"
     ]
    }
   ],
   "source": [
    "if number%4 == 0:\n",
    "    num = int(input('num: ', ))\n",
    "    check = int(input('check: ', ))\n",
    "    if check%num == 0:\n",
    "        print(check, ' divides evenly into ', num)\n",
    "    else:\n",
    "        print(check, \" doesn't divide evenly into \", num)\n",
    "else:\n",
    "    print(number, ' is not a multiple of 4')"
   ]
  }
 ],
 "metadata": {
  "kernelspec": {
   "display_name": "Python 3 (ipykernel)",
   "language": "python",
   "name": "python3"
  },
  "language_info": {
   "codemirror_mode": {
    "name": "ipython",
    "version": 3
   },
   "file_extension": ".py",
   "mimetype": "text/x-python",
   "name": "python",
   "nbconvert_exporter": "python",
   "pygments_lexer": "ipython3",
   "version": "3.9.7"
  }
 },
 "nbformat": 4,
 "nbformat_minor": 5
}
