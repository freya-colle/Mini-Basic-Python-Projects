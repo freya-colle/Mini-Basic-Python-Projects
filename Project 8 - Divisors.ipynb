{
 "cells": [
  {
   "cell_type": "markdown",
   "id": "1934a745",
   "metadata": {},
   "source": [
    "**Exercise**\n",
    "\n",
    "Create a program that asks the user for a number and then prints out a list of all the divisors of that number. (If you don’t know what a divisor is, it is a number that divides evenly into another number. For example, 13 is a divisor of 26 because 26 / 13 has no remainder.)"
   ]
  },
  {
   "cell_type": "code",
   "execution_count": 7,
   "id": "07531d8f",
   "metadata": {},
   "outputs": [
    {
     "name": "stdout",
     "output_type": "stream",
     "text": [
      "num: 99\n",
      "[1, 3, 9, 11, 33, 99]\n"
     ]
    }
   ],
   "source": [
    "num = int(input('num: ',))\n",
    "print([i for i in range(1, num+1) if num%i==0])"
   ]
  },
  {
   "cell_type": "code",
   "execution_count": null,
   "id": "a0bb4563",
   "metadata": {},
   "outputs": [],
   "source": []
  }
 ],
 "metadata": {
  "kernelspec": {
   "display_name": "Python 3 (ipykernel)",
   "language": "python",
   "name": "python3"
  },
  "language_info": {
   "codemirror_mode": {
    "name": "ipython",
    "version": 3
   },
   "file_extension": ".py",
   "mimetype": "text/x-python",
   "name": "python",
   "nbconvert_exporter": "python",
   "pygments_lexer": "ipython3",
   "version": "3.9.7"
  }
 },
 "nbformat": 4,
 "nbformat_minor": 5
}
