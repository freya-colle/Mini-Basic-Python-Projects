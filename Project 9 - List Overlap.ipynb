{
 "cells": [
  {
   "cell_type": "markdown",
   "id": "45ddfd6d",
   "metadata": {},
   "source": [
    "**Exercise**\n",
    "\n",
    "Take two lists, say for example these two:\n",
    "\n",
    "  a = [1, 1, 2, 3, 5, 8, 13, 21, 34, 55, 89]\n",
    "  \n",
    "  b = [1, 2, 3, 4, 5, 6, 7, 8, 9, 10, 11, 12, 13]\n",
    "  \n",
    "and write a program that returns a list that contains only the elements that are common between the lists **(without duplicates)**. Make sure your program works on two lists of different sizes."
   ]
  },
  {
   "cell_type": "code",
   "execution_count": 85,
   "id": "50942b0c",
   "metadata": {},
   "outputs": [],
   "source": [
    "a = [1, 1, 2, 3, 5, 8, 13, 21, 34, 55, 89]\n",
    "\n",
    "b = [1, 2, 3, 4, 5, 6, 7, 8, 9, 10, 11, 12, 13]"
   ]
  },
  {
   "cell_type": "code",
   "execution_count": 89,
   "id": "079828dc",
   "metadata": {},
   "outputs": [
    {
     "name": "stdout",
     "output_type": "stream",
     "text": [
      "[1, 2, 3, 5, 8, 13]\n"
     ]
    }
   ],
   "source": [
    "#FIRST METHOD\n",
    "list9 = []\n",
    "for i in a:\n",
    "    if i in b and i not in list9:\n",
    "        list9.append(i)\n",
    "print(list9)"
   ]
  },
  {
   "cell_type": "code",
   "execution_count": 130,
   "id": "f1fb57a4",
   "metadata": {},
   "outputs": [
    {
     "name": "stdout",
     "output_type": "stream",
     "text": [
      "[1, 2, 3, 5, 8, 13]\n"
     ]
    }
   ],
   "source": [
    "#SECOND METHOD\n",
    "list9 = []\n",
    "for i in a:\n",
    "    if i in b:\n",
    "        list9.append(i)\n",
    "        list(set(list9))\n",
    "print(list9)"
   ]
  },
  {
   "cell_type": "code",
   "execution_count": 140,
   "id": "9a26ea9f",
   "metadata": {},
   "outputs": [
    {
     "data": {
      "text/plain": [
       "[1, 2, 3, 5, 8, 13]"
      ]
     },
     "execution_count": 140,
     "metadata": {},
     "output_type": "execute_result"
    }
   ],
   "source": [
    "list9 = []\n",
    "list9 = list(set(a).intersection(set(b)))\n",
    "list9"
   ]
  },
  {
   "cell_type": "markdown",
   "id": "f388310c",
   "metadata": {},
   "source": [
    "**Extras:**\n",
    "\n",
    "1. Randomly generate two lists to test this"
   ]
  },
  {
   "cell_type": "code",
   "execution_count": 101,
   "id": "e5188869",
   "metadata": {},
   "outputs": [],
   "source": [
    "import random"
   ]
  },
  {
   "cell_type": "code",
   "execution_count": 142,
   "id": "4ab340cd",
   "metadata": {},
   "outputs": [],
   "source": [
    "c = range(1, random.randint(1,100))\n",
    "d = range(10, random.randint(10, 54))"
   ]
  },
  {
   "cell_type": "code",
   "execution_count": 145,
   "id": "5cd68dbb",
   "metadata": {},
   "outputs": [
    {
     "data": {
      "text/plain": [
       "range(1, 36)"
      ]
     },
     "execution_count": 145,
     "metadata": {},
     "output_type": "execute_result"
    }
   ],
   "source": [
    "c"
   ]
  },
  {
   "cell_type": "code",
   "execution_count": 146,
   "id": "dfd82c98",
   "metadata": {},
   "outputs": [
    {
     "data": {
      "text/plain": [
       "range(10, 25)"
      ]
     },
     "execution_count": 146,
     "metadata": {},
     "output_type": "execute_result"
    }
   ],
   "source": [
    "d"
   ]
  },
  {
   "cell_type": "code",
   "execution_count": 144,
   "id": "d8a5b88f",
   "metadata": {},
   "outputs": [],
   "source": [
    "list2 = []"
   ]
  },
  {
   "cell_type": "code",
   "execution_count": 107,
   "id": "c5059062",
   "metadata": {},
   "outputs": [
    {
     "name": "stdout",
     "output_type": "stream",
     "text": [
      "[10, 11, 12, 13, 14, 15, 16, 17, 18, 19, 20, 21]\n"
     ]
    }
   ],
   "source": [
    "for i in c:\n",
    "    if i in d and i not in list2:\n",
    "        list2.append(i)\n",
    "print(list2)"
   ]
  },
  {
   "cell_type": "markdown",
   "id": "3c56fd53",
   "metadata": {},
   "source": [
    "**Extras:**\n",
    "\n",
    "2. Write this in one line of Python"
   ]
  },
  {
   "cell_type": "code",
   "execution_count": 136,
   "id": "b9fa91a3",
   "metadata": {},
   "outputs": [
    {
     "data": {
      "text/plain": [
       "[1, 2, 3, 5, 8, 13]"
      ]
     },
     "execution_count": 136,
     "metadata": {},
     "output_type": "execute_result"
    }
   ],
   "source": [
    "#FIRST METHOD\n",
    "list(set([i for i in a if i in b]))"
   ]
  },
  {
   "cell_type": "code",
   "execution_count": 135,
   "id": "9696cc5e",
   "metadata": {},
   "outputs": [
    {
     "data": {
      "text/plain": [
       "[1, 2, 3, 5, 8, 13]"
      ]
     },
     "execution_count": 135,
     "metadata": {},
     "output_type": "execute_result"
    }
   ],
   "source": [
    "#SECOND METHOD\n",
    "list(set(a).intersection(set(b)))"
   ]
  }
 ],
 "metadata": {
  "kernelspec": {
   "display_name": "Python 3 (ipykernel)",
   "language": "python",
   "name": "python3"
  },
  "language_info": {
   "codemirror_mode": {
    "name": "ipython",
    "version": 3
   },
   "file_extension": ".py",
   "mimetype": "text/x-python",
   "name": "python",
   "nbconvert_exporter": "python",
   "pygments_lexer": "ipython3",
   "version": "3.9.7"
  }
 },
 "nbformat": 4,
 "nbformat_minor": 5
}
